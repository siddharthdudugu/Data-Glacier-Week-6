{
 "cells": [
  {
   "cell_type": "code",
   "execution_count": 2,
   "id": "27d48a01",
   "metadata": {},
   "outputs": [
    {
     "name": "stdout",
     "output_type": "stream",
     "text": [
      "Requirement already satisfied: pandas in d:\\anacondainstallation\\lib\\site-packages (2.1.4)\n",
      "Requirement already satisfied: python-dateutil>=2.8.2 in d:\\anacondainstallation\\lib\\site-packages (from pandas) (2.8.2)\n",
      "Requirement already satisfied: pytz>=2020.1 in d:\\anacondainstallation\\lib\\site-packages (from pandas) (2022.7)\n",
      "Requirement already satisfied: tzdata>=2022.1 in d:\\anacondainstallation\\lib\\site-packages (from pandas) (2023.3)\n",
      "Requirement already satisfied: numpy<2,>=1.22.4 in d:\\anacondainstallation\\lib\\site-packages (from pandas) (1.26.2)\n",
      "Requirement already satisfied: six>=1.5 in d:\\anacondainstallation\\lib\\site-packages (from python-dateutil>=2.8.2->pandas) (1.16.0)\n",
      "Note: you may need to restart the kernel to use updated packages.\n"
     ]
    }
   ],
   "source": [
    "#pip install --upgrade pandas\n"
   ]
  },
  {
   "cell_type": "code",
   "execution_count": 2,
   "id": "d19d7d1f",
   "metadata": {},
   "outputs": [
    {
     "name": "stdout",
     "output_type": "stream",
     "text": [
      "Collecting dask==2023.2.0\n",
      "  Downloading dask-2023.2.0-py3-none-any.whl (1.2 MB)\n",
      "     ---------------------------------------- 0.0/1.2 MB ? eta -:--:--\n",
      "     -- ------------------------------------- 0.1/1.2 MB 2.0 MB/s eta 0:00:01\n",
      "     -------- ------------------------------- 0.3/1.2 MB 2.6 MB/s eta 0:00:01\n",
      "     ------------------------------ --------- 0.9/1.2 MB 6.1 MB/s eta 0:00:01\n",
      "     ---------------------------------------  1.1/1.2 MB 6.6 MB/s eta 0:00:01\n",
      "     ---------------------------------------- 1.2/1.2 MB 5.6 MB/s eta 0:00:00\n",
      "Requirement already satisfied: click>=7.0 in d:\\anacondainstallation\\lib\\site-packages (from dask==2023.2.0) (8.0.4)\n",
      "Requirement already satisfied: pyyaml>=5.3.1 in d:\\anacondainstallation\\lib\\site-packages (from dask==2023.2.0) (6.0)\n",
      "Requirement already satisfied: fsspec>=0.6.0 in d:\\anacondainstallation\\lib\\site-packages (from dask==2023.2.0) (2023.4.0)\n",
      "Requirement already satisfied: toolz>=0.8.2 in d:\\anacondainstallation\\lib\\site-packages (from dask==2023.2.0) (0.12.0)\n",
      "Requirement already satisfied: cloudpickle>=1.1.1 in d:\\anacondainstallation\\lib\\site-packages (from dask==2023.2.0) (2.2.1)\n",
      "Requirement already satisfied: packaging>=20.0 in d:\\anacondainstallation\\lib\\site-packages (from dask==2023.2.0) (23.0)\n",
      "Requirement already satisfied: partd>=0.3.10 in d:\\anacondainstallation\\lib\\site-packages (from dask==2023.2.0) (1.2.0)\n",
      "Requirement already satisfied: colorama in d:\\anacondainstallation\\lib\\site-packages (from click>=7.0->dask==2023.2.0) (0.4.6)\n",
      "Requirement already satisfied: locket in d:\\anacondainstallation\\lib\\site-packages (from partd>=0.3.10->dask==2023.2.0) (1.0.0)\n",
      "Installing collected packages: dask\n",
      "  Attempting uninstall: dask\n",
      "    Found existing installation: dask 2021.10.0\n",
      "    Uninstalling dask-2021.10.0:\n",
      "      Successfully uninstalled dask-2021.10.0\n",
      "Successfully installed dask-2023.2.0\n",
      "Note: you may need to restart the kernel to use updated packages.\n"
     ]
    },
    {
     "name": "stderr",
     "output_type": "stream",
     "text": [
      "ERROR: pip's dependency resolver does not currently take into account all the packages that are installed. This behaviour is the source of the following dependency conflicts.\n",
      "distributed 2021.10.0 requires dask==2021.10.0, but you have dask 2023.2.0 which is incompatible.\n"
     ]
    }
   ],
   "source": [
    "#pip install dask==2023.2.0\n"
   ]
  },
  {
   "cell_type": "code",
   "execution_count": 1,
   "id": "1d6497bb",
   "metadata": {},
   "outputs": [
    {
     "name": "stdout",
     "output_type": "stream",
     "text": [
      "Requirement already satisfied: ray in d:\\anacondainstallation\\lib\\site-packages (2.9.0)\n",
      "Requirement already satisfied: aiosignal in d:\\anacondainstallation\\lib\\site-packages (from ray) (1.3.1)\n",
      "Requirement already satisfied: packaging in d:\\anacondainstallation\\lib\\site-packages (from ray) (23.0)\n",
      "Requirement already satisfied: filelock in d:\\anacondainstallation\\lib\\site-packages (from ray) (3.9.0)\n",
      "Requirement already satisfied: click>=7.0 in d:\\anacondainstallation\\lib\\site-packages (from ray) (8.0.4)\n",
      "Requirement already satisfied: pyyaml in d:\\anacondainstallation\\lib\\site-packages (from ray) (6.0)\n",
      "Requirement already satisfied: frozenlist in d:\\anacondainstallation\\lib\\site-packages (from ray) (1.4.1)\n",
      "Requirement already satisfied: msgpack<2.0.0,>=1.0.0 in d:\\anacondainstallation\\lib\\site-packages (from ray) (1.0.3)\n",
      "Requirement already satisfied: requests in d:\\anacondainstallation\\lib\\site-packages (from ray) (2.29.0)\n",
      "Requirement already satisfied: jsonschema in d:\\anacondainstallation\\lib\\site-packages (from ray) (3.2.0)\n",
      "Requirement already satisfied: protobuf!=3.19.5,>=3.15.3 in d:\\anacondainstallation\\lib\\site-packages (from ray) (4.23.2)\n",
      "Requirement already satisfied: colorama in d:\\anacondainstallation\\lib\\site-packages (from click>=7.0->ray) (0.4.6)\n",
      "Requirement already satisfied: six>=1.11.0 in d:\\anacondainstallation\\lib\\site-packages (from jsonschema->ray) (1.16.0)\n",
      "Requirement already satisfied: setuptools in d:\\anacondainstallation\\lib\\site-packages (from jsonschema->ray) (67.8.0)\n",
      "Requirement already satisfied: attrs>=17.4.0 in d:\\anacondainstallation\\lib\\site-packages (from jsonschema->ray) (22.1.0)\n",
      "Requirement already satisfied: pyrsistent>=0.14.0 in d:\\anacondainstallation\\lib\\site-packages (from jsonschema->ray) (0.18.0)\n",
      "Requirement already satisfied: idna<4,>=2.5 in d:\\anacondainstallation\\lib\\site-packages (from requests->ray) (2.10)\n",
      "Requirement already satisfied: certifi>=2017.4.17 in d:\\anacondainstallation\\lib\\site-packages (from requests->ray) (2023.5.7)\n",
      "Requirement already satisfied: urllib3<1.27,>=1.21.1 in d:\\anacondainstallation\\lib\\site-packages (from requests->ray) (1.26.15)\n",
      "Requirement already satisfied: charset-normalizer<4,>=2 in d:\\anacondainstallation\\lib\\site-packages (from requests->ray) (2.0.4)\n",
      "Note: you may need to restart the kernel to use updated packages.\n"
     ]
    }
   ],
   "source": [
    "#pip install ray"
   ]
  },
  {
   "cell_type": "code",
   "execution_count": 2,
   "id": "d509233d",
   "metadata": {},
   "outputs": [
    {
     "name": "stdout",
     "output_type": "stream",
     "text": [
      "Requirement already satisfied: pandas in d:\\anacondainstallation\\lib\\site-packages (2.1.4)\n",
      "Requirement already satisfied: dask in d:\\anacondainstallation\\lib\\site-packages (2023.2.0)\n",
      "Requirement already satisfied: modin[ray] in d:\\anacondainstallation\\lib\\site-packages (0.26.0)\n",
      "Requirement already satisfied: pyyaml in d:\\anacondainstallation\\lib\\site-packages (6.0)\n",
      "Requirement already satisfied: numpy<2,>=1.22.4 in d:\\anacondainstallation\\lib\\site-packages (from pandas) (1.26.2)\n",
      "Requirement already satisfied: python-dateutil>=2.8.2 in d:\\anacondainstallation\\lib\\site-packages (from pandas) (2.8.2)\n",
      "Requirement already satisfied: pytz>=2020.1 in d:\\anacondainstallation\\lib\\site-packages (from pandas) (2022.7)\n",
      "Requirement already satisfied: tzdata>=2022.1 in d:\\anacondainstallation\\lib\\site-packages (from pandas) (2023.3)\n",
      "Requirement already satisfied: click>=7.0 in d:\\anacondainstallation\\lib\\site-packages (from dask) (8.0.4)\n",
      "Requirement already satisfied: cloudpickle>=1.1.1 in d:\\anacondainstallation\\lib\\site-packages (from dask) (2.2.1)\n",
      "Requirement already satisfied: packaging>=20.0 in d:\\anacondainstallation\\lib\\site-packages (from dask) (23.0)\n",
      "Requirement already satisfied: toolz>=0.8.2 in d:\\anacondainstallation\\lib\\site-packages (from dask) (0.12.0)\n",
      "Requirement already satisfied: partd>=0.3.10 in d:\\anacondainstallation\\lib\\site-packages (from dask) (1.2.0)\n",
      "Requirement already satisfied: fsspec>=0.6.0 in d:\\anacondainstallation\\lib\\site-packages (from dask) (2023.4.0)\n",
      "Requirement already satisfied: psutil>=5.8.0 in d:\\anacondainstallation\\lib\\site-packages (from modin[ray]) (5.9.0)\n",
      "Requirement already satisfied: ray[default]!=2.5.0,>=1.13.0 in d:\\anacondainstallation\\lib\\site-packages (from modin[ray]) (2.9.0)\n",
      "Requirement already satisfied: pydantic<2 in d:\\anacondainstallation\\lib\\site-packages (from modin[ray]) (1.10.6)\n",
      "Requirement already satisfied: pyarrow>=7.0.0 in d:\\anacondainstallation\\lib\\site-packages (from modin[ray]) (14.0.2)\n",
      "Requirement already satisfied: colorama in d:\\anacondainstallation\\lib\\site-packages (from click>=7.0->dask) (0.4.6)\n",
      "Requirement already satisfied: locket in d:\\anacondainstallation\\lib\\site-packages (from partd>=0.3.10->dask) (1.0.0)\n",
      "Requirement already satisfied: typing-extensions>=4.2.0 in d:\\anacondainstallation\\lib\\site-packages (from pydantic<2->modin[ray]) (4.5.0)\n",
      "Requirement already satisfied: six>=1.5 in d:\\anacondainstallation\\lib\\site-packages (from python-dateutil>=2.8.2->pandas) (1.16.0)\n",
      "Requirement already satisfied: frozenlist in d:\\anacondainstallation\\lib\\site-packages (from ray[default]!=2.5.0,>=1.13.0->modin[ray]) (1.4.1)\n",
      "Requirement already satisfied: filelock in d:\\anacondainstallation\\lib\\site-packages (from ray[default]!=2.5.0,>=1.13.0->modin[ray]) (3.9.0)\n",
      "Requirement already satisfied: msgpack<2.0.0,>=1.0.0 in d:\\anacondainstallation\\lib\\site-packages (from ray[default]!=2.5.0,>=1.13.0->modin[ray]) (1.0.3)\n",
      "Requirement already satisfied: requests in d:\\anacondainstallation\\lib\\site-packages (from ray[default]!=2.5.0,>=1.13.0->modin[ray]) (2.29.0)\n",
      "Requirement already satisfied: jsonschema in d:\\anacondainstallation\\lib\\site-packages (from ray[default]!=2.5.0,>=1.13.0->modin[ray]) (3.2.0)\n",
      "Requirement already satisfied: aiosignal in d:\\anacondainstallation\\lib\\site-packages (from ray[default]!=2.5.0,>=1.13.0->modin[ray]) (1.3.1)\n",
      "Requirement already satisfied: protobuf!=3.19.5,>=3.15.3 in d:\\anacondainstallation\\lib\\site-packages (from ray[default]!=2.5.0,>=1.13.0->modin[ray]) (4.23.2)\n",
      "Requirement already satisfied: grpcio>=1.32.0 in d:\\anacondainstallation\\lib\\site-packages (from ray[default]!=2.5.0,>=1.13.0->modin[ray]) (1.59.3)\n",
      "Requirement already satisfied: py-spy>=0.2.0 in d:\\anacondainstallation\\lib\\site-packages (from ray[default]!=2.5.0,>=1.13.0->modin[ray]) (0.3.14)\n",
      "Requirement already satisfied: aiohttp-cors in d:\\anacondainstallation\\lib\\site-packages (from ray[default]!=2.5.0,>=1.13.0->modin[ray]) (0.7.0)\n",
      "Requirement already satisfied: prometheus-client>=0.7.1 in d:\\anacondainstallation\\lib\\site-packages (from ray[default]!=2.5.0,>=1.13.0->modin[ray]) (0.14.1)\n",
      "Requirement already satisfied: virtualenv<20.21.1,>=20.0.24 in d:\\anacondainstallation\\lib\\site-packages (from ray[default]!=2.5.0,>=1.13.0->modin[ray]) (20.21.0)\n",
      "Requirement already satisfied: smart-open in d:\\anacondainstallation\\lib\\site-packages (from ray[default]!=2.5.0,>=1.13.0->modin[ray]) (6.3.0)\n",
      "Requirement already satisfied: colorful in d:\\anacondainstallation\\lib\\site-packages (from ray[default]!=2.5.0,>=1.13.0->modin[ray]) (0.5.6)\n",
      "Requirement already satisfied: opencensus in d:\\anacondainstallation\\lib\\site-packages (from ray[default]!=2.5.0,>=1.13.0->modin[ray]) (0.11.4)\n",
      "Requirement already satisfied: gpustat>=1.0.0 in d:\\anacondainstallation\\lib\\site-packages (from ray[default]!=2.5.0,>=1.13.0->modin[ray]) (1.1.1)\n",
      "Requirement already satisfied: aiohttp>=3.7 in d:\\anacondainstallation\\lib\\site-packages (from ray[default]!=2.5.0,>=1.13.0->modin[ray]) (3.9.1)\n",
      "Requirement already satisfied: async-timeout<5.0,>=4.0 in d:\\anacondainstallation\\lib\\site-packages (from aiohttp>=3.7->ray[default]!=2.5.0,>=1.13.0->modin[ray]) (4.0.3)\n",
      "Requirement already satisfied: yarl<2.0,>=1.0 in d:\\anacondainstallation\\lib\\site-packages (from aiohttp>=3.7->ray[default]!=2.5.0,>=1.13.0->modin[ray]) (1.9.4)\n",
      "Requirement already satisfied: multidict<7.0,>=4.5 in d:\\anacondainstallation\\lib\\site-packages (from aiohttp>=3.7->ray[default]!=2.5.0,>=1.13.0->modin[ray]) (6.0.4)\n",
      "Requirement already satisfied: attrs>=17.3.0 in d:\\anacondainstallation\\lib\\site-packages (from aiohttp>=3.7->ray[default]!=2.5.0,>=1.13.0->modin[ray]) (22.1.0)\n",
      "Requirement already satisfied: nvidia-ml-py>=11.450.129 in d:\\anacondainstallation\\lib\\site-packages (from gpustat>=1.0.0->ray[default]!=2.5.0,>=1.13.0->modin[ray]) (12.535.133)\n",
      "Requirement already satisfied: blessed>=1.17.1 in d:\\anacondainstallation\\lib\\site-packages (from gpustat>=1.0.0->ray[default]!=2.5.0,>=1.13.0->modin[ray]) (1.20.0)\n",
      "Requirement already satisfied: distlib<1,>=0.3.6 in d:\\anacondainstallation\\lib\\site-packages (from virtualenv<20.21.1,>=20.0.24->ray[default]!=2.5.0,>=1.13.0->modin[ray]) (0.3.8)\n",
      "Requirement already satisfied: platformdirs<4,>=2.4 in d:\\anacondainstallation\\lib\\site-packages (from virtualenv<20.21.1,>=20.0.24->ray[default]!=2.5.0,>=1.13.0->modin[ray]) (2.5.2)\n",
      "Requirement already satisfied: pyrsistent>=0.14.0 in d:\\anacondainstallation\\lib\\site-packages (from jsonschema->ray[default]!=2.5.0,>=1.13.0->modin[ray]) (0.18.0)\n",
      "Requirement already satisfied: setuptools in d:\\anacondainstallation\\lib\\site-packages (from jsonschema->ray[default]!=2.5.0,>=1.13.0->modin[ray]) (67.8.0)\n",
      "Requirement already satisfied: opencensus-context>=0.1.3 in d:\\anacondainstallation\\lib\\site-packages (from opencensus->ray[default]!=2.5.0,>=1.13.0->modin[ray]) (0.1.3)\n",
      "Requirement already satisfied: google-api-core<3.0.0,>=1.0.0 in d:\\anacondainstallation\\lib\\site-packages (from opencensus->ray[default]!=2.5.0,>=1.13.0->modin[ray]) (2.11.0)\n",
      "Requirement already satisfied: charset-normalizer<4,>=2 in d:\\anacondainstallation\\lib\\site-packages (from requests->ray[default]!=2.5.0,>=1.13.0->modin[ray]) (2.0.4)\n",
      "Requirement already satisfied: idna<4,>=2.5 in d:\\anacondainstallation\\lib\\site-packages (from requests->ray[default]!=2.5.0,>=1.13.0->modin[ray]) (2.10)\n",
      "Requirement already satisfied: urllib3<1.27,>=1.21.1 in d:\\anacondainstallation\\lib\\site-packages (from requests->ray[default]!=2.5.0,>=1.13.0->modin[ray]) (1.26.15)\n",
      "Requirement already satisfied: certifi>=2017.4.17 in d:\\anacondainstallation\\lib\\site-packages (from requests->ray[default]!=2.5.0,>=1.13.0->modin[ray]) (2023.5.7)\n",
      "Requirement already satisfied: jinxed>=1.1.0 in d:\\anacondainstallation\\lib\\site-packages (from blessed>=1.17.1->gpustat>=1.0.0->ray[default]!=2.5.0,>=1.13.0->modin[ray]) (1.2.1)\n",
      "Requirement already satisfied: wcwidth>=0.1.4 in d:\\anacondainstallation\\lib\\site-packages (from blessed>=1.17.1->gpustat>=1.0.0->ray[default]!=2.5.0,>=1.13.0->modin[ray]) (0.2.5)\n",
      "Requirement already satisfied: google-auth<3.0dev,>=2.14.1 in d:\\anacondainstallation\\lib\\site-packages (from google-api-core<3.0.0,>=1.0.0->opencensus->ray[default]!=2.5.0,>=1.13.0->modin[ray]) (2.19.0)\n",
      "Requirement already satisfied: googleapis-common-protos<2.0dev,>=1.56.2 in d:\\anacondainstallation\\lib\\site-packages (from google-api-core<3.0.0,>=1.0.0->opencensus->ray[default]!=2.5.0,>=1.13.0->modin[ray]) (1.59.0)\n",
      "Requirement already satisfied: pyasn1-modules>=0.2.1 in d:\\anacondainstallation\\lib\\site-packages (from google-auth<3.0dev,>=2.14.1->google-api-core<3.0.0,>=1.0.0->opencensus->ray[default]!=2.5.0,>=1.13.0->modin[ray]) (0.3.0)\n",
      "Requirement already satisfied: cachetools<6.0,>=2.0.0 in d:\\anacondainstallation\\lib\\site-packages (from google-auth<3.0dev,>=2.14.1->google-api-core<3.0.0,>=1.0.0->opencensus->ray[default]!=2.5.0,>=1.13.0->modin[ray]) (5.3.1)\n",
      "Requirement already satisfied: rsa<5,>=3.1.4 in d:\\anacondainstallation\\lib\\site-packages (from google-auth<3.0dev,>=2.14.1->google-api-core<3.0.0,>=1.0.0->opencensus->ray[default]!=2.5.0,>=1.13.0->modin[ray]) (4.9)\n",
      "Requirement already satisfied: ansicon in d:\\anacondainstallation\\lib\\site-packages (from jinxed>=1.1.0->blessed>=1.17.1->gpustat>=1.0.0->ray[default]!=2.5.0,>=1.13.0->modin[ray]) (1.89.0)\n",
      "Requirement already satisfied: pyasn1<0.6.0,>=0.4.6 in d:\\anacondainstallation\\lib\\site-packages (from pyasn1-modules>=0.2.1->google-auth<3.0dev,>=2.14.1->google-api-core<3.0.0,>=1.0.0->opencensus->ray[default]!=2.5.0,>=1.13.0->modin[ray]) (0.5.0)\n",
      "Note: you may need to restart the kernel to use updated packages.\n"
     ]
    }
   ],
   "source": [
    "#pip install pandas dask modin[ray] pyyaml"
   ]
  },
  {
   "cell_type": "code",
   "execution_count": null,
   "id": "4e676520",
   "metadata": {},
   "outputs": [],
   "source": []
  },
  {
   "cell_type": "code",
   "execution_count": 6,
   "id": "be9638b3",
   "metadata": {},
   "outputs": [
    {
     "name": "stdout",
     "output_type": "stream",
     "text": [
      "Validation successful.\n",
      "Summary: {'Total number of rows': 157, 'Total number of columns': 8, 'File size': 3.041699528694153e-06}\n"
     ]
    }
   ],
   "source": [
    "# Import necessary libraries\n",
    "import pandas as pd\n",
    "import dask.dataframe as dd\n",
    "import modin.pandas as mpd\n",
    "import ray\n",
    "import yaml\n",
    "import re\n",
    "import os\n",
    "\n",
    "# Check if Ray is already initialized\n",
    "if not ray.is_initialized():\n",
    "    # Initialize Ray\n",
    "    ray.init()\n",
    "    \n",
    "# Define file path\n",
    "file_path = 'Manufacturer_Car_data.csv'\n",
    "\n",
    "# Present approach of reading the file using pandas\n",
    "pandas_start_time = pd.Timestamp.now()\n",
    "df_pandas = pd.read_csv(file_path)\n",
    "pandas_end_time = pd.Timestamp.now()\n",
    "pandas_execution_time = pandas_end_time - pandas_start_time\n",
    "\n",
    "# Reading file using Dask\n",
    "#dask_start_time = pd.Timestamp.now()\n",
    "#df_dask = dd.read_csv(file_path)\n",
    "#dask_end_time = pd.Timestamp.now()\n",
    "#dask_execution_time = dask_end_time - dask_start_time\n",
    "\n",
    "# Reading file using Dask with explicit dtype specification\n",
    "dask_start_time = pd.Timestamp.now()\n",
    "dtype_specification = {'Fuel efficiency': 'float64', 'Horsepower': 'float64'}\n",
    "df_dask = dd.read_csv(file_path, dtype=dtype_specification)\n",
    "dask_end_time = pd.Timestamp.now()\n",
    "dask_execution_time = dask_end_time - dask_start_time\n",
    "\n",
    "\n",
    "# Reading file using Modin\n",
    "modin_start_time = pd.Timestamp.now()\n",
    "df_modin = mpd.read_csv(file_path)\n",
    "modin_end_time = pd.Timestamp.now()\n",
    "modin_execution_time = modin_end_time - modin_start_time\n",
    "\n",
    "# Reading file using Ray (parallelized operations)\n",
    "@ray.remote\n",
    "def read_csv_ray(file_path):\n",
    "    return pd.read_csv(file_path)\n",
    "\n",
    "ray_start_time = pd.Timestamp.now()\n",
    "df_ray_remote = read_csv_ray.remote(file_path)\n",
    "df_ray = ray.get(df_ray_remote)\n",
    "ray_end_time = pd.Timestamp.now()\n",
    "ray_execution_time = ray_end_time - ray_start_time\n",
    "\n",
    "# Basic validation on data columns\n",
    "def clean_column_names(df):\n",
    "    df.columns = [re.sub(r'\\W+', '_', col.strip()) for col in df.columns]\n",
    "    return df\n",
    "\n",
    "df_pandas_cleaned = clean_column_names(df_pandas)\n",
    "df_dask_cleaned = clean_column_names(df_dask.compute())\n",
    "df_modin_cleaned = clean_column_names(df_modin)\n",
    "df_ray_cleaned = clean_column_names(df_ray)\n",
    "\n",
    "# Create YAML file with column names\n",
    "yaml_file_path = 'columns.yaml'\n",
    "columns_yaml = {'columns': df_pandas_cleaned.columns.tolist(), 'separator': ','}\n",
    "with open(yaml_file_path, 'w') as yaml_file:\n",
    "    yaml.dump(columns_yaml, yaml_file, default_flow_style=False)\n",
    "\n",
    "# Validate number of columns and column names with YAML\n",
    "expected_columns = columns_yaml['columns']\n",
    "if len(df_pandas_cleaned.columns) == len(expected_columns) and all(col in expected_columns for col in df_pandas_cleaned.columns):\n",
    "    print(\"Validation successful.\")\n",
    "else:\n",
    "    print(\"Validation failed.\")\n",
    "\n",
    "# Write the file in pipe-separated text file (|) in gz format\n",
    "output_file_path = 'output_file.txt.gz'\n",
    "df_pandas_cleaned.to_csv(output_file_path, sep='|', compression='gzip', index=False)\n",
    "\n",
    "# Create a summary of the file\n",
    "summary = {\n",
    "    'Total number of rows': len(df_pandas_cleaned),\n",
    "    'Total number of columns': len(df_pandas_cleaned.columns),\n",
    "    'File size': os.path.getsize(output_file_path) / (1024**3)  # in GB\n",
    "}\n",
    "\n",
    "print(\"Summary:\", summary)\n",
    "\n",
    "# Shutdown Ray\n",
    "if ray.is_initialized():\n",
    "    ray.shutdown()\n"
   ]
  },
  {
   "cell_type": "code",
   "execution_count": null,
   "id": "80841d7f",
   "metadata": {},
   "outputs": [],
   "source": []
  }
 ],
 "metadata": {
  "kernelspec": {
   "display_name": "Python 3 (ipykernel)",
   "language": "python",
   "name": "python3"
  },
  "language_info": {
   "codemirror_mode": {
    "name": "ipython",
    "version": 3
   },
   "file_extension": ".py",
   "mimetype": "text/x-python",
   "name": "python",
   "nbconvert_exporter": "python",
   "pygments_lexer": "ipython3",
   "version": "3.9.7"
  }
 },
 "nbformat": 4,
 "nbformat_minor": 5
}
